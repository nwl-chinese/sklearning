{
 "cells": [
  {
   "cell_type": "code",
   "execution_count": 2,
   "metadata": {},
   "outputs": [],
   "source": [
    "#Python and machine learning"
   ]
  },
  {
   "cell_type": "markdown",
   "metadata": {},
   "source": [
    "# 课题简介\n",
    "医疗健康疾病预测\n",
    "1.该数据集最初来自国家糖尿病/消化/肾脏疾病研究所。数据集的目标是基于数据集中包含的某些诊断测量来诊断性的预测患者是否患有糖尿病。\n",
    "\n",
    "2.从较大的数据库中选择这些实例有几个约束条件。尤其是，这里的所有患者都是Pima印第安至少21岁的女性。\n",
    "\n",
    "3.数据集由多个医学预测变量和一个目标变量组成Outcome。预测变量包括患者的怀孕次数、BMI、胰岛素水平、年龄等。\n",
    "\n",
    "数据文件：diabetes.csv\n",
    "\n",
    "特征（怀孕次数，血糖，血压，皮脂厚度，胰岛素，BMI身体质量指数，糖尿病遗传函数，年龄，结果）"
   ]
  },
  {
   "cell_type": "code",
   "execution_count": 3,
   "metadata": {},
   "outputs": [
    {
     "name": "stdout",
     "output_type": "stream",
     "text": [
      "Index(['Pregnancies', 'Glucose', 'BloodPressure', 'SkinThickness', 'Insulin',\n",
      "       'BMI', 'DiabetesPedigreeFunction', 'Age', 'Outcome'],\n",
      "      dtype='object')\n"
     ]
    },
    {
     "data": {
      "text/plain": [
       "(768, 9)"
      ]
     },
     "execution_count": 3,
     "metadata": {},
     "output_type": "execute_result"
    }
   ],
   "source": [
    "import pandas as pd# 数据科学计算工具\n",
    "import numpy as np# 数值计算工具\n",
    "import matplotlib.pyplot as plt # 可视化\n",
    "%matplotlib inline\n",
    "data=pd.read_csv(\"diabetes.csv\")\n",
    "print(data.columns)\n",
    "data.shape"
   ]
  },
  {
   "cell_type": "code",
   "execution_count": 4,
   "metadata": {},
   "outputs": [
    {
     "data": {
      "text/html": [
       "<div>\n",
       "<style scoped>\n",
       "    .dataframe tbody tr th:only-of-type {\n",
       "        vertical-align: middle;\n",
       "    }\n",
       "\n",
       "    .dataframe tbody tr th {\n",
       "        vertical-align: top;\n",
       "    }\n",
       "\n",
       "    .dataframe thead th {\n",
       "        text-align: right;\n",
       "    }\n",
       "</style>\n",
       "<table border=\"1\" class=\"dataframe\">\n",
       "  <thead>\n",
       "    <tr style=\"text-align: right;\">\n",
       "      <th></th>\n",
       "      <th>Pregnancies</th>\n",
       "      <th>Glucose</th>\n",
       "      <th>BloodPressure</th>\n",
       "      <th>SkinThickness</th>\n",
       "      <th>Insulin</th>\n",
       "      <th>BMI</th>\n",
       "      <th>DiabetesPedigreeFunction</th>\n",
       "      <th>Age</th>\n",
       "      <th>Outcome</th>\n",
       "    </tr>\n",
       "  </thead>\n",
       "  <tbody>\n",
       "    <tr>\n",
       "      <td>0</td>\n",
       "      <td>6</td>\n",
       "      <td>148</td>\n",
       "      <td>72</td>\n",
       "      <td>35</td>\n",
       "      <td>0</td>\n",
       "      <td>33.6</td>\n",
       "      <td>0.627</td>\n",
       "      <td>50</td>\n",
       "      <td>1</td>\n",
       "    </tr>\n",
       "    <tr>\n",
       "      <td>1</td>\n",
       "      <td>1</td>\n",
       "      <td>85</td>\n",
       "      <td>66</td>\n",
       "      <td>29</td>\n",
       "      <td>0</td>\n",
       "      <td>26.6</td>\n",
       "      <td>0.351</td>\n",
       "      <td>31</td>\n",
       "      <td>0</td>\n",
       "    </tr>\n",
       "    <tr>\n",
       "      <td>2</td>\n",
       "      <td>8</td>\n",
       "      <td>183</td>\n",
       "      <td>64</td>\n",
       "      <td>0</td>\n",
       "      <td>0</td>\n",
       "      <td>23.3</td>\n",
       "      <td>0.672</td>\n",
       "      <td>32</td>\n",
       "      <td>1</td>\n",
       "    </tr>\n",
       "    <tr>\n",
       "      <td>3</td>\n",
       "      <td>1</td>\n",
       "      <td>89</td>\n",
       "      <td>66</td>\n",
       "      <td>23</td>\n",
       "      <td>94</td>\n",
       "      <td>28.1</td>\n",
       "      <td>0.167</td>\n",
       "      <td>21</td>\n",
       "      <td>0</td>\n",
       "    </tr>\n",
       "    <tr>\n",
       "      <td>4</td>\n",
       "      <td>0</td>\n",
       "      <td>137</td>\n",
       "      <td>40</td>\n",
       "      <td>35</td>\n",
       "      <td>168</td>\n",
       "      <td>43.1</td>\n",
       "      <td>2.288</td>\n",
       "      <td>33</td>\n",
       "      <td>1</td>\n",
       "    </tr>\n",
       "  </tbody>\n",
       "</table>\n",
       "</div>"
      ],
      "text/plain": [
       "   Pregnancies  Glucose  BloodPressure  SkinThickness  Insulin   BMI  \\\n",
       "0            6      148             72             35        0  33.6   \n",
       "1            1       85             66             29        0  26.6   \n",
       "2            8      183             64              0        0  23.3   \n",
       "3            1       89             66             23       94  28.1   \n",
       "4            0      137             40             35      168  43.1   \n",
       "\n",
       "   DiabetesPedigreeFunction  Age  Outcome  \n",
       "0                     0.627   50        1  \n",
       "1                     0.351   31        0  \n",
       "2                     0.672   32        1  \n",
       "3                     0.167   21        0  \n",
       "4                     2.288   33        1  "
      ]
     },
     "execution_count": 4,
     "metadata": {},
     "output_type": "execute_result"
    }
   ],
   "source": [
    "#打印前五行数据\n",
    "data.head()"
   ]
  },
  {
   "cell_type": "code",
   "execution_count": 5,
   "metadata": {},
   "outputs": [
    {
     "name": "stdout",
     "output_type": "stream",
     "text": [
      "<class 'pandas.core.frame.DataFrame'>\n",
      "RangeIndex: 768 entries, 0 to 767\n",
      "Data columns (total 9 columns):\n",
      "Pregnancies                 768 non-null int64\n",
      "Glucose                     768 non-null int64\n",
      "BloodPressure               768 non-null int64\n",
      "SkinThickness               768 non-null int64\n",
      "Insulin                     768 non-null int64\n",
      "BMI                         768 non-null float64\n",
      "DiabetesPedigreeFunction    768 non-null float64\n",
      "Age                         768 non-null int64\n",
      "Outcome                     768 non-null int64\n",
      "dtypes: float64(2), int64(7)\n",
      "memory usage: 54.1 KB\n"
     ]
    }
   ],
   "source": [
    "data.info()"
   ]
  },
  {
   "cell_type": "code",
   "execution_count": 6,
   "metadata": {},
   "outputs": [
    {
     "data": {
      "text/plain": [
       "<matplotlib.axes._subplots.AxesSubplot at 0x17625707c48>"
      ]
     },
     "execution_count": 6,
     "metadata": {},
     "output_type": "execute_result"
    },
    {
     "data": {
      "image/png": "[encoded data removed]",
      "text/plain": [
       "<Figure size 432x288 with 1 Axes>"
      ]
     },
     "metadata": {
      "needs_background": "light"
     },
     "output_type": "display_data"
    }
   ],
   "source": [
    "import seaborn as sns\n",
    "sns.countplot(data['Outcome'],label=\"Count\")"
   ]
  },
  {
   "cell_type": "code",
   "execution_count": 7,
   "metadata": {},
   "outputs": [
    {
     "name": "stdout",
     "output_type": "stream",
     "text": [
      "158    0\n",
      "251    0\n",
      "631    0\n",
      "757    1\n",
      "689    1\n",
      "      ..\n",
      "733    0\n",
      "441    0\n",
      "627    0\n",
      "84     1\n",
      "55     0\n",
      "Name: Outcome, Length: 154, dtype: int64\n"
     ]
    }
   ],
   "source": [
    "from sklearn.model_selection import train_test_split\n",
    "train_X , test_X , train_y , test_y = train_test_split(data[data.columns[0:8]], data['Outcome'], test_size=0.20, random_state=2)\n",
    "print(test_y)"
   ]
  },
  {
   "cell_type": "markdown",
   "metadata": {},
   "source": [
    "# KNN算法介绍\n",
    "KNN是一种有监督的机器学习算法，可以解决分类问题，也可以解决回归问题。\n",
    "\n",
    "算法流程 对每一个未知点执行：\n",
    "\n",
    "计算未知点到所有已知类别点的距离\n",
    "按距离排序（升序）\n",
    "选取其中前k个与未知点离得最近的点\n",
    "统计k个点中各个类别的个数\n",
    "上述k个点里类别出现频率最高的作为未知点的类别\n",
    "优点： 简单有效、易理解\n",
    "\n",
    "缺点： k近邻需要保存全部数据集，因此对内存消耗大，当数据集较大时对设备要求非常高； 需要计算每个未知点到全部已知点的距离，可能会很耗时； 分类结果不易理解!\n"
   ]
  },
  {
   "cell_type": "code",
   "execution_count": 8,
   "metadata": {},
   "outputs": [
    {
     "data": {
      "image/png": "[encoded data removed]",
      "text/plain": [
       "<Figure size 432x288 with 1 Axes>"
      ]
     },
     "metadata": {
      "needs_background": "light"
     },
     "output_type": "display_data"
    }
   ],
   "source": [
    "#算法会在训练数据集中找到与其相距最近的数据点——也就是它的“近邻点”。下面研究是否能够确认模型的复杂度和精确度之间的关系\n",
    "from sklearn.neighbors import KNeighborsClassifier\n",
    "training_accuracy=[]\n",
    "test_accuracy=[]\n",
    "#try n_neighbors from 1 to 10\n",
    "neighbors_settings=range(1,11)\n",
    " \n",
    "for n_neighbors in neighbors_settings:\n",
    "    #build the model\n",
    "    knn=KNeighborsClassifier(n_neighbors=n_neighbors)\n",
    "    knn.fit(train_X,train_y)\n",
    "    #record training set accuracy\n",
    "    training_accuracy.append(knn.score(train_X,train_y))\n",
    "    #record test set accuracy\n",
    "    test_accuracy.append(knn.score(test_X, test_y))\n",
    "plt.plot(neighbors_settings,training_accuracy,label=\"training accuracy\")\n",
    "plt.plot(neighbors_settings,test_accuracy,label=\"test accuracy\")\n",
    "plt.ylabel(\"Accuracy\")\n",
    "plt.xlabel(\"n_neighbors\")\n",
    "plt.legend()\n",
    "plt.savefig('knn_compare_model')"
   ]
  },
  {
   "cell_type": "code",
   "execution_count": 9,
   "metadata": {},
   "outputs": [
    {
     "name": "stdout",
     "output_type": "stream",
     "text": [
      "Accuracy of K-NN classifier on training set:0.78\n",
      "Accuracy of K-NN classifier on test set:0.77\n"
     ]
    }
   ],
   "source": [
    "#图中建议我们应该选择n_neighbors=9，下面给出：\n",
    "knn=KNeighborsClassifier(n_neighbors=9)\n",
    "knn.fit(train_X, train_y)\n",
    "print('Accuracy of K-NN classifier on training set:{:.2f}'.format(knn.score(train_X, train_y)))\n",
    "print('Accuracy of K-NN classifier on test set:{:.2f}'.format(knn.score(test_X, test_y)))"
   ]
  },
  {
   "cell_type": "markdown",
   "metadata": {},
   "source": [
    "# 逻辑斯蒂回归\n",
    "LR回归是在线性回归模型的基础上，使用sigmoid函数，将线性模型的结果压缩到[0,1]之间，使其拥有概率意义。"
   ]
  },
  {
   "cell_type": "code",
   "execution_count": 10,
   "metadata": {},
   "outputs": [
    {
     "name": "stderr",
     "output_type": "stream",
     "text": [
      "C:\\ProgramData\\Anaconda3\\lib\\site-packages\\sklearn\\linear_model\\logistic.py:432: FutureWarning: Default solver will be changed to 'lbfgs' in 0.22. Specify a solver to silence this warning.\n",
      "  FutureWarning)\n"
     ]
    }
   ],
   "source": [
    "#使用逻辑斯蒂回归对模型进行学习训练。\n",
    "from sklearn.linear_model import LogisticRegression\n",
    "log = LogisticRegression()\n",
    "log.fit(train_X, train_y)\n",
    "log_y_predict = log.predict(test_X)"
   ]
  },
  {
   "cell_type": "code",
   "execution_count": 11,
   "metadata": {},
   "outputs": [
    {
     "name": "stdout",
     "output_type": "stream",
     "text": [
      "Accuracy on training set:0.775\n",
      "Accuracy on test set:0.760\n"
     ]
    }
   ],
   "source": [
    "from sklearn.metrics import classification_report\n",
    "print(\"Accuracy on training set:{:.3f}\".format(log.score(train_X,train_y)))\n",
    "print(\"Accuracy on test set:{:.3f}\".format(log.score(test_X,test_y)))"
   ]
  },
  {
   "cell_type": "markdown",
   "metadata": {},
   "source": [
    "# 决策树\n",
    "   决策树是一个预测模型；他代表的是对象属性与对象值之间的一种映射关系。树中每个节点表示某个对象，而每个分叉路径则代表的某个可能的属性值，而每个叶结点则对应从根节点到该叶节点所经历的路径所表示的对象的值。决策树是描述非线性关系的不二选择。"
   ]
  },
  {
   "cell_type": "code",
   "execution_count": 12,
   "metadata": {},
   "outputs": [
    {
     "name": "stdout",
     "output_type": "stream",
     "text": [
      "Accuracy on training set:1.000\n",
      "Accuracy on test set:0.727\n"
     ]
    }
   ],
   "source": [
    "#决策树\n",
    "'''默认值对树的深度没有限制,训练集的准确度可以高达100%，而测试集的准确度相对就差了很多。\n",
    "这表明决策树是过度拟合的，不能对新数据产生好的效果。因此，我们需要对树进行预剪枝。'''\n",
    "from sklearn.tree import DecisionTreeClassifier\n",
    "tree=DecisionTreeClassifier(random_state=1)\n",
    "tree.fit(train_X,train_y)\n",
    "print(\"Accuracy on training set:{:.3f}\".format(tree.score(train_X,train_y)))\n",
    "print(\"Accuracy on test set:{:.3f}\".format(tree.score(test_X,test_y)))"
   ]
  },
  {
   "cell_type": "code",
   "execution_count": 13,
   "metadata": {},
   "outputs": [
    {
     "data": {
      "image/png": "[encoded data removed]",
      "text/plain": [
       "<Figure size 432x288 with 1 Axes>"
      ]
     },
     "metadata": {
      "needs_background": "light"
     },
     "output_type": "display_data"
    }
   ],
   "source": [
    "#限制树的深度，观察训练集和测试集的准确率变化\n",
    "from sklearn.tree import DecisionTreeClassifier\n",
    "training_accuracy=[]\n",
    "test_accuracy=[]\n",
    "max_depth_settings=range(1,11)\n",
    "for max_depth in max_depth_settings :\n",
    "    tree=DecisionTreeClassifier(max_depth=max_depth,random_state=1)\n",
    "    tree.fit(train_X,train_y)\n",
    "    training_accuracy.append(tree.score(train_X,train_y))\n",
    "    test_accuracy.append(tree.score(test_X, test_y))\n",
    "    tree_y_predict = tree.predict(test_X)\n",
    "plt.plot(max_depth_settings,training_accuracy,label=\"training accuracy\")\n",
    "plt.plot(max_depth_settings,test_accuracy,label=\"test accuracy\")\n",
    "plt.ylabel(\"Accuracy\")\n",
    "plt.xlabel(\"max_depth\")\n",
    "plt.legend()\n",
    "plt.savefig('tree_compare_model')"
   ]
  },
  {
   "cell_type": "code",
   "execution_count": 14,
   "metadata": {},
   "outputs": [
    {
     "name": "stdout",
     "output_type": "stream",
     "text": [
      "Accuracy on training set:0.767\n",
      "Accuracy on test set:0.786\n"
     ]
    }
   ],
   "source": [
    "#我们设置max_depth=2或者3比较合适，限制树的深度以减少过拟合。这会使训练集的准确度降低，但测试集准确度提高。\n",
    "tree=DecisionTreeClassifier(max_depth=2,random_state=1)\n",
    "tree.fit(train_X,train_y)\n",
    "tree_y_predict = tree.predict(test_X)\n",
    "print(\"Accuracy on training set:{:.3f}\".format(tree.score(train_X,train_y)))\n",
    "print(\"Accuracy on test set:{:.3f}\".format(tree.score(test_X,test_y)))"
   ]
  },
  {
   "cell_type": "code",
   "execution_count": 15,
   "metadata": {},
   "outputs": [
    {
     "name": "stdout",
     "output_type": "stream",
     "text": [
      "Feature importances:\n",
      "[0.         0.71675591 0.         0.         0.         0.14041827\n",
      " 0.         0.14282582]\n"
     ]
    }
   ],
   "source": [
    "#打印特征重要性\n",
    "print(\"Feature importances:\\n{}\".format(tree.feature_importances_))"
   ]
  },
  {
   "cell_type": "code",
   "execution_count": 16,
   "metadata": {},
   "outputs": [
    {
     "data": {
      "image/png": "[encoded data removed]",
      "text/plain": [
       "<Figure size 576x432 with 1 Axes>"
      ]
     },
     "metadata": {
      "needs_background": "light"
     },
     "output_type": "display_data"
    }
   ],
   "source": [
    "#画出特征重要性的可视图，易看出血糖是影响糖尿病的重要因素\n",
    "a=[]\n",
    "for i in data.columns:\n",
    "    a.append(i)\n",
    "data=pd.read_csv(\"diabetes.csv\")\n",
    "def plot_feature_importances_data(model):\n",
    "    plt.figure(figsize=(8,6))\n",
    "    n_features=8\n",
    "    plt.barh(range(n_features),model.feature_importances_,align='center')\n",
    "    plt.yticks(np.arange(n_features),a)\n",
    "    plt.xlabel(\"Feature importance\")\n",
    "    plt.ylabel(\"Feature\")\n",
    "    plt.ylim(-1,n_features)\n",
    "plot_feature_importances_data(tree)"
   ]
  },
  {
   "cell_type": "markdown",
   "metadata": {},
   "source": [
    "# 随机森林\n",
    "   随机森林是利用多个决策树对样本进行训练、分类并预测的一种算法，主要应用于回归和分类场景。在对数据进行分类的同时，还可以给出各个变量的重要性评分，评估各个变量在分类中所起的作用。随机森林中随机是核心，通过随机的选择样本、特征，降低了决策树之间的相关性。随机森林中的随机主要有两层意思，一是随机在原始训练数据中有放回的选取等量的数据作为训练样本，二是在建立决策树时，随机的选特征中选取一部分特征建立决策树。这两种随机使得各个决策树之间的相关性小，进一步提高模型的准确性。"
   ]
  },
  {
   "cell_type": "code",
   "execution_count": 17,
   "metadata": {},
   "outputs": [
    {
     "name": "stdout",
     "output_type": "stream",
     "text": [
      "Accuracy on training set:1.000\n",
      "Accuracy on test set:0.766\n"
     ]
    }
   ],
   "source": [
    "#随机森林\n",
    "from sklearn.ensemble import RandomForestClassifier\n",
    "rf=RandomForestClassifier(n_estimators=100,random_state=1)\n",
    "rf.fit(train_X,train_y)\n",
    "rf_y_predict = rf.predict(test_X)\n",
    "print(\"Accuracy on training set:{:.3f}\".format(rf.score(train_X,train_y)))\n",
    "print(\"Accuracy on test set:{:.3f}\".format(rf.score(test_X,test_y)))"
   ]
  },
  {
   "cell_type": "code",
   "execution_count": 18,
   "metadata": {},
   "outputs": [
    {
     "name": "stdout",
     "output_type": "stream",
     "text": [
      "sklearn: 0.21.3\n"
     ]
    }
   ],
   "source": [
    "# check scikit-learn version\n",
    "import sklearn\n",
    "print('sklearn: %s' % sklearn.__version__)"
   ]
  },
  {
   "cell_type": "code",
   "execution_count": 19,
   "metadata": {},
   "outputs": [
    {
     "data": {
      "text/plain": [
       "<function matplotlib.pyplot.show(*args, **kw)>"
      ]
     },
     "execution_count": 19,
     "metadata": {},
     "output_type": "execute_result"
    },
    {
     "data": {
      "image/png": "[encoded data removed]",
      "text/plain": [
       "<Figure size 432x288 with 1 Axes>"
      ]
     },
     "metadata": {
      "needs_background": "light"
     },
     "output_type": "display_data"
    }
   ],
   "source": [
    "#调整树的深度，观察训练集和测试集深度变化\n",
    "from sklearn.ensemble import RandomForestClassifier\n",
    "training_accuracy=[]\n",
    "test_accuracy=[]\n",
    "max_depth_settings=range(1,10)\n",
    "for max_depth in max_depth_settings :\n",
    "    rf=RandomForestClassifier(max_depth=max_depth,random_state=1,n_estimators=100)\n",
    "    rf.fit(train_X,train_y)\n",
    "    training_accuracy.append(rf.score(train_X,train_y))\n",
    "    test_accuracy.append(rf.score(test_X, test_y))\n",
    "plt.plot(max_depth_settings,training_accuracy,label=\"training accuracy\")\n",
    "plt.plot(max_depth_settings,test_accuracy,label=\"test accuracy\")\n",
    "plt.ylabel(\"Accuracy\")\n",
    "plt.xlabel(\"max_depth\")\n",
    "plt.legend()\n",
    "plt.show"
   ]
  },
  {
   "cell_type": "code",
   "execution_count": 20,
   "metadata": {},
   "outputs": [
    {
     "name": "stdout",
     "output_type": "stream",
     "text": [
      "Accuracy on training set:0.775\n",
      "Accuracy on test set:0.792\n"
     ]
    }
   ],
   "source": [
    "from sklearn.ensemble import RandomForestClassifier\n",
    "rf=RandomForestClassifier(max_depth=2,n_estimators=100,random_state=1)\n",
    "rf.fit(train_X,train_y)\n",
    "rf_y_predict = rf.predict(test_X)\n",
    "print(\"Accuracy on training set:{:.3f}\".format(rf.score(train_X,train_y)))\n",
    "print(\"Accuracy on test set:{:.3f}\".format(rf.score(test_X,test_y)))"
   ]
  },
  {
   "cell_type": "markdown",
   "metadata": {},
   "source": [
    "# 梯度提升\n",
    "   梯度提升的思想借鉴于梯度下降法，其基本原理是根据当前模型损失函数的负梯度信息来训练新加入的弱分类器，然后将训练好的弱分类器以累加的形式结合到现有模型中。"
   ]
  },
  {
   "cell_type": "code",
   "execution_count": 21,
   "metadata": {},
   "outputs": [
    {
     "name": "stdout",
     "output_type": "stream",
     "text": [
      "Accuracy on training set:0.925\n",
      "Accuracy on test set:0.734\n"
     ]
    }
   ],
   "source": [
    "#梯度提升\n",
    "from sklearn.ensemble import GradientBoostingClassifier\n",
    "gb=GradientBoostingClassifier(random_state=0)\n",
    "gb.fit(train_X,train_y)\n",
    "print(\"Accuracy on training set:{:.3f}\".format(gb.score(train_X,train_y)))\n",
    "print(\"Accuracy on test set:{:.3f}\".format(gb.score(test_X,test_y)))"
   ]
  },
  {
   "cell_type": "code",
   "execution_count": 25,
   "metadata": {},
   "outputs": [
    {
     "data": {
      "text/plain": [
       "<function matplotlib.pyplot.show(*args, **kw)>"
      ]
     },
     "execution_count": 25,
     "metadata": {},
     "output_type": "execute_result"
    },
    {
     "data": {
      "image/png": "[encoded data removed]",
      "text/plain": [
       "<Figure size 432x288 with 1 Axes>"
      ]
     },
     "metadata": {
      "needs_background": "light"
     },
     "output_type": "display_data"
    }
   ],
   "source": [
    "#默认状态下随机森林的测试集的准确率最高\n",
    "plt.bar(['knn', 'log', 'tree', 'rf', 'gb'], (knn.score(test_X, test_y),log.score(test_X, test_y),tree.score(test_X, test_y),rf.score(test_X, test_y),gb.score(test_X, test_y)))\n",
    "plt.show"
   ]
  },
  {
   "cell_type": "code",
   "execution_count": null,
   "metadata": {},
   "outputs": [],
   "source": []
  }
 ],
 "metadata": {
  "kernelspec": {
   "display_name": "Python 3",
   "language": "python",
   "name": "python3"
  },
  "language_info": {
   "codemirror_mode": {
    "name": "ipython",
    "version": 3
   },
   "file_extension": ".py",
   "mimetype": "text/x-python",
   "name": "python",
   "nbconvert_exporter": "python",
   "pygments_lexer": "ipython3",
   "version": "3.7.4"
  }
 },
 "nbformat": 4,
 "nbformat_minor": 2
}
